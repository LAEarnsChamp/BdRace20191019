{
 "cells": [
  {
   "cell_type": "code",
   "execution_count": 94,
   "metadata": {},
   "outputs": [],
   "source": [
    "import pandas as pd\n",
    "\n",
    "df = pd.read_csv('附件.csv', encoding='gb2312')\n",
    "# replace unit \"kg\" to \"千克\" \n",
    "# and blank \"0\"\\\n",
    "# and -amount sale for goods\n",
    "# not in sale\n",
    "units = df.loc[:, \"单位\"].replace(\"kg\", \"千克\").replace(\"kG\", \"千克\").replace(\"KG\", \"千克\").replace(\"Kg\", \"千克\").replace(\"\", \"0\")\n",
    "kind = df.loc[:, \"商品类型\"].replace(\"12g*8\", \"一般商品\")\n",
    "amount = abs(df.loc[:, \"销售数量\"])\n",
    "insale = df.loc[:, \"是否促销\"].replace(\"9.9\", \"否\")"
   ]
  },
  {
   "cell_type": "code",
   "execution_count": 95,
   "metadata": {},
   "outputs": [],
   "source": [
    "df.loc[:, \"单位\"] = units\n",
    "df.loc[:, \"商品类型\"] = kind\n",
    "df.loc[:, \"销售数量\"] = amount"
   ]
  },
  {
   "cell_type": "code",
   "execution_count": 96,
   "metadata": {},
   "outputs": [],
   "source": [
    "# profit = amount * price per item\n",
    "df.loc[:, [\"销售数量\", \"销售金额\", \"商品单价\"]].fillna(0)\n",
    "df.eval('销售金额 = 商品单价 * 销售数量', inplace=True)"
   ]
  },
  {
   "cell_type": "code",
   "execution_count": 97,
   "metadata": {},
   "outputs": [],
   "source": [
    "df = df.dropna()   #drop NAN"
   ]
  },
  {
   "cell_type": "code",
   "execution_count": 98,
   "metadata": {},
   "outputs": [],
   "source": [
    "df = df.drop_duplicates() # drop duplica"
   ]
  },
  {
   "cell_type": "code",
   "execution_count": 100,
   "metadata": {},
   "outputs": [],
   "source": [
    "# get the df to analyse the belows\n",
    "df.to_csv(\"task1_1.csv\", index=False, encoding='gb2312')"
   ]
  },
  {
   "cell_type": "code",
   "execution_count": 101,
   "metadata": {},
   "outputs": [],
   "source": [
    "# 1-2 calculate profits of each categorie"
   ]
  },
  {
   "cell_type": "code",
   "execution_count": 102,
   "metadata": {},
   "outputs": [],
   "source": [
    "df_sumprofit_by_cate = df.loc[:, [\"大类名称\", \"销售金额\"]].groupby(by=\"大类名称\").sum()\n",
    "df_sumprofit_by_cate.to_csv(\"task1_2.csv\", index=True, encoding='gb2312')"
   ]
  },
  {
   "cell_type": "code",
   "execution_count": 103,
   "metadata": {},
   "outputs": [],
   "source": [
    "# 1-3 calculate 促销/非促销 profits of each medium categorie\n",
    "df_profit_by_saleornot =df.groupby([\"中类名称\", \"是否促销\"]).sum().loc[:, [\"销售金额\"]]\n",
    "df_profit_by_saleornot.to_csv(\"task1_3.csv\", index=True, encoding='gb2312')"
   ]
  },
  {
   "cell_type": "code",
   "execution_count": 104,
   "metadata": {},
   "outputs": [],
   "source": [
    "# 1-5\n",
    "df_consumer_by_daysinmon = df.loc[:, [\"顾客编号\", \"销售日期\", \"销售月份\", \"销售金额\"]]\n",
    "# consume per mon\n",
    "cpm = df_consumer_by_daysinmon.loc[:, [\"顾客编号\", \"销售月份\", \"销售金额\"]].groupby([\"顾客编号\", \"销售月份\"]).sum()\n",
    "# consume days\n",
    "cds = df_consumer_by_daysinmon.loc[:, [\"顾客编号\", \"销售月份\", \"销售日期\"]].drop_duplicates().groupby([\"顾客编号\", \"销售月份\"]).count()"
   ]
  },
  {
   "cell_type": "code",
   "execution_count": 105,
   "metadata": {},
   "outputs": [],
   "source": [
    "df_consumer_by_daysinmon = pd.merge(cpm, cds, how='inner', on=[\"顾客编号\", \"销售月份\"])"
   ]
  },
  {
   "cell_type": "code",
   "execution_count": 106,
   "metadata": {},
   "outputs": [],
   "source": [
    "df_consumer_by_daysinmon.to_csv(\"task1_5.csv\", index=True, encoding='gb2312')"
   ]
  },
  {
   "cell_type": "code",
   "execution_count": null,
   "metadata": {},
   "outputs": [],
   "source": []
  }
 ],
 "metadata": {
  "kernelspec": {
   "display_name": "Python 3",
   "language": "python",
   "name": "python3"
  },
  "language_info": {
   "codemirror_mode": {
    "name": "ipython",
    "version": 3
   },
   "file_extension": ".py",
   "mimetype": "text/x-python",
   "name": "python",
   "nbconvert_exporter": "python",
   "pygments_lexer": "ipython3",
   "version": "3.7.4"
  }
 },
 "nbformat": 4,
 "nbformat_minor": 4
}
